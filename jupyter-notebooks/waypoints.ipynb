{
 "cells": [
  {
   "cell_type": "markdown",
   "id": "63751a6c",
   "metadata": {},
   "source": [
    "Finding sorted position of every node to every other node is $\\mathcal{O}(n^2\\log{n})$. Pretty inefficient."
   ]
  },
  {
   "cell_type": "code",
   "execution_count": 126,
   "id": "e2e3688f",
   "metadata": {},
   "outputs": [
    {
     "data": {
      "text/plain": [
       "[[(1, 1.0),\n",
       "  (2, 3.605551275463989),\n",
       "  (4, 3.605551275463989),\n",
       "  (3, 4.123105625617661)],\n",
       " [(0, 1.0),\n",
       "  (2, 2.8284271247461903),\n",
       "  (3, 3.1622776601683795),\n",
       "  (4, 3.1622776601683795)],\n",
       " [(3, 1.4142135623730951),\n",
       "  (4, 1.4142135623730951),\n",
       "  (1, 2.8284271247461903),\n",
       "  (0, 3.605551275463989)],\n",
       " [(2, 1.4142135623730951),\n",
       "  (4, 2.8284271247461903),\n",
       "  (1, 3.1622776601683795),\n",
       "  (0, 4.123105625617661)],\n",
       " [(2, 1.4142135623730951),\n",
       "  (3, 2.8284271247461903),\n",
       "  (1, 3.1622776601683795),\n",
       "  (0, 3.605551275463989)]]"
      ]
     },
     "execution_count": 126,
     "metadata": {},
     "output_type": "execute_result"
    }
   ],
   "source": [
    "class Node:\n",
    "    pos: numpy.array\n",
    "\n",
    "    def __init__(self, pos):\n",
    "        self.pos = pos\n",
    "        \n",
    "nodes = []\n",
    "nodes.append(Node(numpy.array([0, 0])))\n",
    "nodes.append(Node(numpy.array([1, 0])))\n",
    "nodes.append(Node(numpy.array([3, 2])))\n",
    "nodes.append(Node(numpy.array([4, 1])))\n",
    "nodes.append(Node(numpy.array([2, 3])))\n",
    "\n",
    "# Distances to all other nodes for any given noade\n",
    "distances = [[] for node in nodes]\n",
    "\n",
    "for i, node_a in enumerate(nodes):\n",
    "    for j, node_b in enumerate(nodes):\n",
    "        if i != j:\n",
    "            node_tuple = (j, numpy.linalg.norm(node_a.pos - node_b.pos))\n",
    "            distances[i].append(node_tuple)\n",
    "    distances[i] = sorted(distances[i], key=lambda x: x[1])\n",
    "\n",
    "distances"
   ]
  },
  {
   "cell_type": "code",
   "execution_count": 129,
   "id": "4e9c47fa",
   "metadata": {},
   "outputs": [
    {
     "data": {
      "image/png": "[encoded data removed]",
      "text/plain": [
       "<Figure size 432x288 with 1 Axes>"
      ]
     },
     "metadata": {},
     "output_type": "display_data"
    }
   ],
   "source": [
    "import networkx as nx\n",
    "import matplotlib.pyplot as plt\n",
    "\n",
    "G = nx.Graph()\n",
    "for i, node in enumerate(nodes):\n",
    "    G.add_node(i, pos=node.pos)\n",
    "    for to in distances[i]:\n",
    "        G.add_edge(i, to[0])\n",
    "    \n",
    "\n",
    "pos=nx.get_node_attributes(G,'pos')\n",
    "nx.draw(G, pos, with_labels=True)\n",
    "plt.show()"
   ]
  }
 ],
 "metadata": {
  "kernelspec": {
   "display_name": "Python 3 (ipykernel)",
   "language": "python",
   "name": "python3"
  },
  "language_info": {
   "codemirror_mode": {
    "name": "ipython",
    "version": 3
   },
   "file_extension": ".py",
   "mimetype": "text/x-python",
   "name": "python",
   "nbconvert_exporter": "python",
   "pygments_lexer": "ipython3",
   "version": "3.8.10"
  }
 },
 "nbformat": 4,
 "nbformat_minor": 5
}
