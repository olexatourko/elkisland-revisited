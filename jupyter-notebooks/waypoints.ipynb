{
 "cells": [
  {
   "cell_type": "code",
   "execution_count": 128,
   "id": "20d89e05",
   "metadata": {},
   "outputs": [
    {
     "data": {
      "text/plain": [
       "2.8284271247461903"
      ]
     },
     "execution_count": 128,
     "metadata": {},
     "output_type": "execute_result"
    }
   ],
   "source": [
    "import numpy\n",
    "\n",
    "a = numpy.array([-1, -1])\n",
    "b = numpy.array([1, 1])\n",
    "c = b - a\n",
    "# Distance\n",
    "numpy.linalg.norm(c)"
   ]
  },
  {
   "cell_type": "code",
   "execution_count": 129,
   "id": "e2e3688f",
   "metadata": {},
   "outputs": [],
   "source": [
    "class Node:\n",
    "    pos: numpy.array\n",
    "\n",
    "    def __init__(self, pos):\n",
    "        self.pos = pos\n",
    "        \n",
    "nodes = []\n",
    "nodes.append(Node(numpy.array([0, 0])))\n",
    "nodes.append(Node(numpy.array([1, 0])))\n",
    "nodes.append(Node(numpy.array([3, 2])))\n",
    "nodes.append(Node(numpy.array([4, 1])))\n",
    "\n",
    "distances = numpy.zeros((4, 4))\n",
    "for i, node_a in enumerate(nodes):\n",
    "    for j, node_b in enumerate(nodes):\n",
    "        if node_a != node_b:\n",
    "            distances[i][j] = numpy.linalg.norm(node_a.pos - node_b.pos)"
   ]
  },
  {
   "cell_type": "code",
   "execution_count": 130,
   "id": "4e9c47fa",
   "metadata": {},
   "outputs": [
    {
     "data": {
      "image/png": "[encoded data removed]",
      "text/plain": [
       "<Figure size 432x288 with 1 Axes>"
      ]
     },
     "metadata": {},
     "output_type": "display_data"
    }
   ],
   "source": [
    "import networkx as nx\n",
    "import matplotlib.pyplot as plt\n",
    "\n",
    "G = nx.Graph()\n",
    "for i, node in enumerate(nodes):\n",
    "    G.add_node(i, pos=node.pos)\n",
    "\n",
    "pos=nx.get_node_attributes(G,'pos')\n",
    "nx.draw(G, pos, with_labels=True)\n",
    "plt.show()"
   ]
  }
 ],
 "metadata": {
  "kernelspec": {
   "display_name": "Python 3 (ipykernel)",
   "language": "python",
   "name": "python3"
  },
  "language_info": {
   "codemirror_mode": {
    "name": "ipython",
    "version": 3
   },
   "file_extension": ".py",
   "mimetype": "text/x-python",
   "name": "python",
   "nbconvert_exporter": "python",
   "pygments_lexer": "ipython3",
   "version": "3.8.10"
  }
 },
 "nbformat": 4,
 "nbformat_minor": 5
}
